{
  "nbformat": 4,
  "nbformat_minor": 0,
  "metadata": {
    "colab": {
      "provenance": []
    },
    "kernelspec": {
      "name": "python3",
      "display_name": "Python 3"
    },
    "language_info": {
      "name": "python"
    }
  },
  "cells": [
    {
      "cell_type": "markdown",
      "source": [
        "1. What is the role of the 'else' block in a try-except statement? Provide an example\n",
        "scenario where it would be useful.\n",
        "\n",
        "ANS:The else block allows the code to run without error.In a try-except statement, the else block is executed when there is no exception raised in the try block. It is optional and follows all except blocks. The else block is useful when you want to execute some code if there is no exception raised in the try block.\n"
      ],
      "metadata": {
        "id": "EmgWDNIZmNof"
      }
    },
    {
      "cell_type": "code",
      "source": [
        "#for example:\n",
        "# working for try()\n",
        "def divide (x,y):\n",
        "  try:\n",
        "    #part as answer\n",
        "    result=(x / y)\n",
        "  except ZeroDivisionError:\n",
        "      print(\"sorry! you can't divide by zero\")\n",
        "  else:\n",
        "      print('yeah your answer is :', result)\n",
        "\n",
        "divide (5,10)\n",
        "divide (5,0)\n"
      ],
      "metadata": {
        "colab": {
          "base_uri": "https://localhost:8080/"
        },
        "id": "bYCkAeKczeaT",
        "outputId": "028c6e2d-6a64-4ec5-dd6d-2b011f49de62"
      },
      "execution_count": null,
      "outputs": [
        {
          "output_type": "stream",
          "name": "stdout",
          "text": [
            "yeah your answer is : 0.5\n",
            "sorry! you can't divide by zero\n"
          ]
        }
      ]
    },
    {
      "cell_type": "markdown",
      "source": [
        "In the above example the code enters the else block only if the try clause does not raise an exception."
      ],
      "metadata": {
        "id": "8xs59_yT085O"
      }
    },
    {
      "cell_type": "markdown",
      "source": [
        "2. Can a try-except block be nested inside another try-except block? Explain with an\n",
        "example.\n",
        "\n",
        "ANS:Yes, a try-except block can be nested inside another try-except block. This can be useful when we want to handle different type of exceptions in different ways."
      ],
      "metadata": {
        "id": "un6vsH1w1MD8"
      }
    },
    {
      "cell_type": "code",
      "source": [
        "\n",
        "#NESTED try-except block example:\n",
        "try:\n",
        "  n =float(input(\"please enter first number: \"))\n",
        "  d =float(input(\"please enter second number: \"))\n",
        "\n",
        "  result= n / d\n",
        "  print(\"Result is:\",result)\n",
        "\n",
        "except ValueError:\n",
        "    print(\"Please enter valid float value\")\n",
        "\n",
        "except ZeroDivisionError:\n",
        "    print(\"Division by xero is not valid\")\n",
        "\n"
      ],
      "metadata": {
        "colab": {
          "base_uri": "https://localhost:8080/"
        },
        "id": "FWe--qjD0f2q",
        "outputId": "cf93b120-a004-4c9c-e37d-902a550c93e5"
      },
      "execution_count": null,
      "outputs": [
        {
          "output_type": "stream",
          "name": "stdout",
          "text": [
            "please enter first number: 23\n",
            "please enter second number: 12\n",
            "Result is: 1.9166666666666667\n"
          ]
        }
      ]
    },
    {
      "cell_type": "markdown",
      "source": [
        "3. How can you create a custom exception class in Python? Provide an example that\n",
        "demonstrates its usage.\n",
        "\n",
        "ANS: To create a custom exception class in python we can define a new class that is derived from the built-in exception class."
      ],
      "metadata": {
        "id": "cvMhGJd69oPq"
      }
    },
    {
      "cell_type": "code",
      "source": [
        "class CustomError(Exception):\n",
        "  pass\n"
      ],
      "metadata": {
        "id": "O8NyVKkJ9gT1"
      },
      "execution_count": null,
      "outputs": []
    },
    {
      "cell_type": "code",
      "source": [
        "raise CustomError(\"this is a custom error\")"
      ],
      "metadata": {
        "id": "OmMvPUavCn4o"
      },
      "execution_count": null,
      "outputs": []
    },
    {
      "cell_type": "code",
      "source": [
        "\n",
        "class InvalidAgeException(Exception):\n",
        "    \"Raised when the input value is less than 18\"\n",
        "    pass\n",
        "\n",
        "\n",
        "number = 18\n",
        "\n",
        "try:\n",
        "    num = int(input(\"Enter a number: \"))\n",
        "    if num < number:\n",
        "        raise InvalidAgeException\n",
        "    else:\n",
        "        print(\"Eligible to Vote\")\n",
        "\n",
        "except InvalidAgeException:\n",
        "    print(\"Exception occurred: Invalid Age\")"
      ],
      "metadata": {
        "colab": {
          "base_uri": "https://localhost:8080/"
        },
        "id": "sDKOOhzPGVf6",
        "outputId": "387c4c18-7e31-4829-ddb6-80518ca41933"
      },
      "execution_count": null,
      "outputs": [
        {
          "output_type": "stream",
          "name": "stdout",
          "text": [
            "Enter a number: 20\n",
            "Eligible to Vote\n"
          ]
        }
      ]
    },
    {
      "cell_type": "markdown",
      "source": [
        "In the above example, we have defined the custom exception InvalidAgeException by creating a new class that is derived from the built-in Exception class.\n",
        "\n",
        "Here, when input_num is smaller than 18, this code generates an exception.When an exception occurs, the rest of the code inside the try block is skipped.\n",
        "\n",
        "The except block catches the user-defined InvalidAgeException exception and statements inside the except block are executed.\n",
        "\n"
      ],
      "metadata": {
        "id": "-ypPVyQUIsrG"
      }
    },
    {
      "cell_type": "markdown",
      "source": [
        "4. What are some common exceptions that are built-in to Python?\n",
        "\n",
        "ANS: Some of the common exceptions that are built-in to python are:\n",
        "\n",
        "1. ZeroDivisionError: Raised when the second argument of division or modulo operation is zero.\n",
        "\n",
        "2. TypeError: Raised when an operation or function applied to an object is of inappropriate type.\n",
        "\n",
        "3. KeyError: Raised when an dictionary range is out of range.\n",
        "\n",
        "4. ValueError: Raised when an built-in function or operation receives an argument that has a right type but an inappropriate value.\n",
        "\n",
        "5. IndexError:Raised when a sequence subscript is out of range.\n",
        "\n",
        "6. FileNotFoundError: Raised when th file or directory is requested but doesn't exit.\n",
        "\n",
        "7. MemoryError: Raised when the opeartion run out of memory.\n",
        "\n",
        "8. NameError: Raised when the global or local name is not found.\n",
        "\n",
        "9. IndentationError: Raised when there is incorrect indentation.\n",
        "\n",
        "10. AttributeError: Raised when the attribute reference or assignment fails.\n",
        "\n",
        "11. SyntaxError: Raised when the parser encounter a syntax error.\n",
        "\n",
        "12. IOError: Raised when an I/O operation (such as a print statement, the built-in open() function or a method of a file object) fails for an I/O-related reason.\n",
        "\n",
        "13. ImportError: Raised when an import statement fails to find the module definition or when a from ... import fails to find a name that is to be imported.\n",
        "\n",
        "14. OverflowError: Raised when the result of an arithmetic operation is too large to be expressed by the normal number format."
      ],
      "metadata": {
        "id": "zsRL9_MpPzin"
      }
    },
    {
      "cell_type": "markdown",
      "source": [
        "5. What is logging in Python, and why is it important in software development?\n",
        "\n",
        "ANS: logging is a technique of monitoring the events that takes place when some software is in use.It is important for software developing,debugging, and running.If we don't have any logging records and our program crashes, there are very few chances that we detect the root cause of the problem.And if we detect the cause it will consume lot of time.with the logging, we can leave a trail breadcrumbs so that something goes wrong we can determine the cause of the problem.\n",
        "\n",
        "Some programmer utilise the idea of 'Printing' the statement so that to check whether they are correctly running the program or any error ocurred.However printing is not a smart move.for basic script it might be the answer to our problem however the printing statement will fail in complex program.\n",
        "  \n",
        " Python has a built-in module logging which allows writing status messages to a file or any other output streams. The file can contain information on which part of the code is executed and what problems have arisen.\n",
        "\n",
        " There are five built-in levels of the log message in Python:\n",
        "\n",
        "Debug: These are used to give Detailed information, typically of interest only when diagnosing problems.\n",
        "\n",
        "Info: These are used to confirm that things are working as expected.\n",
        "\n",
        "Warning: These are used as an indication that something unexpected happened or is indicative of some problem in the near future.\n",
        "\n",
        "Error: This tells that due to a more serious problem, the software has not been able to perform some function.\n",
        "\n",
        "Critical: This tells serious error, indicating that the program itself may be unable to continue running1."
      ],
      "metadata": {
        "id": "Ibcn2yRJTcVX"
      }
    },
    {
      "cell_type": "markdown",
      "source": [
        "6. Explain the purpose of log levels in Python logging and provide examples of when each log level would be appropriate.\n",
        "\n",
        "ANS:log levels are used to indicate the severity of log message in python.The logging module provide 5 standard levels:Debug, Info, Warning, Error, Critical.Each level has its own purpose and is used to categorize log message based on their importance or significance.The level are arranged in increasing order of severity from Debug to Critical. Log messages with lower levels than the logger’s level will be ignored. The default level is WARNING. The level can be changed with the .setLevel() method\n",
        "\n",
        "Here are some examples of when each log level would be appropriate:\n",
        "\n",
        "DEBUG: Detailed information, typically of interest only when diagnosing problems.\n",
        "\n",
        "INFO: Confirmation that things are working as expected.\n",
        "\n",
        "WARNING: An indication that something unexpected happened or indicative of some problem in the near future (e.g., ‘disk space low’). The software is still working as expected.\n",
        "\n",
        "ERROR: Due to a more serious problem, the software has not been able to perform some function.\n",
        "\n",
        "CRITICAL: A very serious error, indicating that the program itself may be unable to continue running.\n",
        "\n",
        "\n",
        "\n",
        "\n"
      ],
      "metadata": {
        "id": "AXi5lkwKaWu0"
      }
    },
    {
      "cell_type": "markdown",
      "source": [
        "7. What are log formatters in Python logging, and how can you customise the log\n",
        "message format using formatters?\n",
        "\n",
        "ANS:In Python logging, a formatter is an object that defines the layout of log messages. It specifies how log messages should be formatted before they are output. The logging module provides a Formatter class that we can use to create custom formatters. we can customize the log message format using formatters by specifying the format string in the Formatter constructor"
      ],
      "metadata": {
        "id": "Wz9djekoc7cL"
      }
    },
    {
      "cell_type": "code",
      "source": [
        "#example of customise the log message format using formatters\n",
        "import logging\n",
        "logging.basicConfig(level=logging.DEBUG,\n",
        "                    format='%(asctime)s %(levelname)s %(message)s',\n",
        "                    datefmt='%m/%d/%y %I:%M:%S %p')\n",
        "logging.debug(\"this is a debug message\")\n",
        "logging.info(\"this is an info message\")\n",
        "logging.warning(\"this is a warning message\")\n",
        "logging.error(\"this is an error message\")\n",
        "logging.critical(\"this is a critical message\")"
      ],
      "metadata": {
        "colab": {
          "base_uri": "https://localhost:8080/"
        },
        "id": "AraDSPuCVSAz",
        "outputId": "c8791b8b-e955-452d-bd16-79167800c78a"
      },
      "execution_count": null,
      "outputs": [
        {
          "output_type": "stream",
          "name": "stderr",
          "text": [
            "WARNING:root:this is a warning message\n",
            "ERROR:root:this is an error message\n",
            "CRITICAL:root:this is a critical message\n"
          ]
        }
      ]
    },
    {
      "cell_type": "markdown",
      "source": [
        "In the above example, we have used the basicConfig() method to configure the logging module. We have specified the level of logging as DEBUG and the format of log messages as ‘%(asctime)s %(levelname)s %(message)s’. The datefmt parameter specifies the format of the date and time in the log messages"
      ],
      "metadata": {
        "id": "qlkQx4dAXBU9"
      }
    },
    {
      "cell_type": "markdown",
      "source": [
        "8. How can you set up logging to capture log messages from multiple modules or\n",
        "classes in a Python application?"
      ],
      "metadata": {
        "id": "hJoeKGVGlqtV"
      }
    },
    {
      "cell_type": "markdown",
      "source": [
        "One way to set up logging to capture log messages from multiple modules or classes in a Python application is to use the logging module from the standard library. The logging module provides a simple and flexible way to configure and use loggers, handlers, filters, and formatters.\n",
        "\n",
        "The basic idea is to create a logger object in each module or class that needs to log messages, and use the getLogger function with a name argument to identify the source of the log messages. For example, in your main module, you can do something like this:"
      ],
      "metadata": {
        "id": "-lQtuIr3X2kB"
      }
    },
    {
      "cell_type": "markdown",
      "source": [
        "9. What is the difference between the logging and print statements in Python? When should you use logging over print statements in a real-world application?\n",
        "\n",
        "ANS:In Python, both print and logging can be used for displaying information, but they serve different purposes. The print statement is a built-in function in Python that prints the specified value or values to the console. It is mainly used for debugging and is not recommended for logging information in production code1.\n",
        "\n",
        "On the other hand, logging is a technique to display useful messages and warnings to users. The logging module provides a flexible way to log different messages in various output destinations such as on the console, in files, and on networks. Logging is a best practice for production code. The logging module provides features such as log levels and filtering\n",
        "\n",
        "Here are some differences between logging and print statements:\n",
        "\n",
        "1. Record events and errors that occur during the execution of Python programs.\n",
        "\n",
        "2. Displays the information to the console for debugging purposes.\n",
        "\n",
        "3. Mainly used in the production environment.\n",
        "\n",
        "4. Logging has different levels of severity that allow you to display log messages according to the level you want. A print statement does not give you that flexibility.\n",
        "\n",
        "5. Logging allows you to direct the log messages to separate files that can then be used for post-analysis while the same is not easily available with print statement.\n",
        "\n",
        "In real-world applications, it is recommended to use logging over print statements because it provides more flexibility and control over what is logged and where it goes"
      ],
      "metadata": {
        "id": "nKlsyD6TmQ8W"
      }
    },
    {
      "cell_type": "markdown",
      "source": [
        "10. Write a Python program that logs a message to a file named \"app.log\" with the\n",
        "following requirements:\n",
        "● The log message should be \"Hello, World!\"\n",
        "● The log level should be set to \"INFO.\"\n",
        "● The log file should append new log entries without overwriting previous ones.\n",
        "\n",
        "ANS: Here is the python program that logs a message to a file named \"app.log\"with the above requirement"
      ],
      "metadata": {
        "id": "Pe8c3OgFn0f4"
      }
    },
    {
      "cell_type": "code",
      "source": [
        "import logging\n",
        "\n",
        "logging.basicConfig(filename=\"app.log\", level=logging.INFO)\n",
        "logging.info(\"Hello,World!\")"
      ],
      "metadata": {
        "id": "psocgdG2lciJ"
      },
      "execution_count": null,
      "outputs": []
    },
    {
      "cell_type": "markdown",
      "source": [
        "11. Create a Python program that logs an error message to the console and a file named\n",
        "\"errors.log\" if an exception occurs during the program's execution. The error\n",
        "message should include the exception type and a timestamp"
      ],
      "metadata": {
        "id": "ImcpO5l8p4Y0"
      }
    },
    {
      "cell_type": "code",
      "source": [
        "import logging\n",
        "import datetime\n",
        "\n",
        "logging.basicConfig(filename='errors.log', level=logging.ERROR)\n",
        "\n",
        "def LetUsDivide(n, d):\n",
        "    try:\n",
        "        result = n / d\n",
        "    except ZeroDivisionError:\n",
        "        logging.error('You are trying to divide by zero, which is not allowed')\n",
        "    else:\n",
        "        return result\n",
        "\n",
        "\n",
        "    logging.error(f'{datetime.datetime.now()} - {type(ZeroDivisionError).__name__}: {ZeroDivisionError}')\n",
        "\n",
        "LetUsDivide(4,0)"
      ],
      "metadata": {
        "colab": {
          "base_uri": "https://localhost:8080/"
        },
        "id": "lCWBoUJJqLe0",
        "outputId": "f7f37f8c-770d-4af3-8980-401a8abf2cd9"
      },
      "execution_count": null,
      "outputs": [
        {
          "output_type": "stream",
          "name": "stderr",
          "text": [
            "ERROR:root:You are trying to divide by zero, which is not allowed\n",
            "ERROR:root:2023-07-25 15:35:26.269267 - type: <class 'ZeroDivisionError'>\n"
          ]
        }
      ]
    },
    {
      "cell_type": "code",
      "source": [
        "import logging\n",
        "import datetime\n",
        "import math\n",
        "logging.basicConfig(filename='error.log', level=logging.ERROR)\n",
        "x = int(input('Please enter a positive number:\\n'))\n",
        "\n",
        "try:\n",
        "    print(f'Square Root of {x} is {math.sqrt(x)}')\n",
        "except ValueError as ve:\n",
        "    print(f'You entered {x}, which is not a positive number.')\n",
        "\n",
        "\n",
        "    logging.error(f'{datetime.datetime.now()}-{type(ValueError).__name__}:{ValueError}')\n",
        "\n"
      ],
      "metadata": {
        "colab": {
          "base_uri": "https://localhost:8080/"
        },
        "id": "RAk9uCNfr5Jb",
        "outputId": "69f6da84-ad6b-4e34-8e86-9c96ab99c66f"
      },
      "execution_count": null,
      "outputs": [
        {
          "name": "stdout",
          "output_type": "stream",
          "text": [
            "Please enter a positive number:\n",
            "-12\n"
          ]
        },
        {
          "output_type": "stream",
          "name": "stderr",
          "text": [
            "ERROR:root:2023-07-25 15:51:57.345256-type:<class 'ValueError'>\n"
          ]
        },
        {
          "output_type": "stream",
          "name": "stdout",
          "text": [
            "You entered -12, which is not a positive number.\n"
          ]
        }
      ]
    },
    {
      "cell_type": "code",
      "source": [],
      "metadata": {
        "id": "gE5Kp86vp9gi"
      },
      "execution_count": null,
      "outputs": []
    }
  ]
}